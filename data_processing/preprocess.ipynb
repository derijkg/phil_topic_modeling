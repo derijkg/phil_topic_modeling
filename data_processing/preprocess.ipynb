{
 "cells": [
  {
   "cell_type": "code",
   "execution_count": null,
   "id": "523153fc",
   "metadata": {},
   "outputs": [],
   "source": [
    "import nltk\n",
    "# You may need to download the sentence tokenizer model\n",
    "try:\n",
    "    nltk.data.find('tokenizers/punkt')\n",
    "except nltk.downloader.DownloadError:\n",
    "    nltk.download('punkt')\n",
    "import os\n",
    "import re\n",
    "import csv\n",
    "import ebooklib\n",
    "from ebooklib import epub\n",
    "from bs4 import BeautifulSoup, NavigableString, Tag # Import Tag\n",
    "import json"
   ]
  },
  {
   "cell_type": "code",
   "execution_count": null,
   "id": "ba0a61de",
   "metadata": {},
   "outputs": [],
   "source": [
    "\n",
    "\n",
    "def sentence_aware_chunking(text, chunk_size_sentences=5, overlap_sentences=1):\n",
    "    \"\"\"\n",
    "    Splits text into semantically aware chunks of sentences with overlap.\n",
    "    \"\"\"\n",
    "    sentences = nltk.sent_tokenize(text)\n",
    "    \n",
    "    chunks = []\n",
    "    # Use a step size to create overlap\n",
    "    step = chunk_size_sentences - overlap_sentences\n",
    "    for i in range(0, len(sentences), step):\n",
    "        chunk = sentences[i:i + chunk_size_sentences]\n",
    "        if not chunk:\n",
    "            continue\n",
    "        # Join the sentences back into a single string for the \"document\"\n",
    "        chunks.append(\" \".join(chunk))\n",
    "        \n",
    "        # If the last chunk is a full chunk, we don't need to go further\n",
    "        if i + chunk_size_sentences >= len(sentences):\n",
    "            break\n",
    "            \n",
    "    return chunks\n",
    "\n",
    "# --- How to use it in your main block ---\n",
    "# Instead of iterating through paragraphs, iterate through books\n",
    "\n",
    "all_docs = []\n",
    "for book_text in all_my_books: # Assuming `all_my_books` is a list of full book texts\n",
    "    book_chunks = sentence_aware_chunking(\n",
    "        book_text, \n",
    "        chunk_size_sentences=4, # A good starting point\n",
    "        overlap_sentences=1     # A good starting point\n",
    "    )\n",
    "    all_docs.extend(book_chunks)\n",
    "\n",
    "# Now `all_docs` is your new list of documents to feed into the model.\n",
    "DOCS_FULL = all_docs"
   ]
  }
 ],
 "metadata": {
  "language_info": {
   "name": "python"
  }
 },
 "nbformat": 4,
 "nbformat_minor": 5
}
