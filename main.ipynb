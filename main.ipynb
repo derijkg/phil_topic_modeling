{
 "cells": [
  {
   "cell_type": "markdown",
   "id": "2f399f32",
   "metadata": {},
   "source": [
    "preprocessing\n",
    "    domain specific stop words (corpus analysis)\n",
    "    lemmatization\n",
    "    ngrams (countvec)\n",
    "    "
   ]
  },
  {
   "cell_type": "code",
   "execution_count": 1,
   "id": "57d036f1",
   "metadata": {},
   "outputs": [
    {
     "name": "stderr",
     "output_type": "stream",
     "text": [
      "c:\\Users\\User\\.local\\share\\mamba\\envs\\nlp\\Lib\\site-packages\\tqdm\\auto.py:21: TqdmWarning: IProgress not found. Please update jupyter and ipywidgets. See https://ipywidgets.readthedocs.io/en/stable/user_install.html\n",
      "  from .autonotebook import tqdm as notebook_tqdm\n"
     ]
    }
   ],
   "source": [
    "import my_utils as mu\n",
    "import pandas as pd\n",
    "import inspect"
   ]
  },
  {
   "cell_type": "code",
   "execution_count": null,
   "id": "440d08d4",
   "metadata": {},
   "outputs": [
    {
     "name": "stderr",
     "output_type": "stream",
     "text": [
      "<>:2: SyntaxWarning: invalid escape sequence '\\p'\n",
      "<>:2: SyntaxWarning: invalid escape sequence '\\p'\n",
      "C:\\Users\\User\\AppData\\Local\\Temp\\ipykernel_34244\\249313815.py:2: SyntaxWarning: invalid escape sequence '\\p'\n",
      "  df = pd.read_csv('data\\phil_nlp.csv')\n",
      "C:\\Users\\User\\AppData\\Local\\Temp\\ipykernel_34244\\249313815.py:2: DtypeWarning: Columns (8) have mixed types. Specify dtype option on import or set low_memory=False.\n",
      "  df = pd.read_csv('data\\phil_nlp.csv')\n",
      "C:\\Users\\User\\AppData\\Local\\Temp\\ipykernel_34244\\249313815.py:2: SyntaxWarning: invalid escape sequence '\\p'\n",
      "  df = pd.read_csv('data\\phil_nlp.csv')\n"
     ]
    },
    {
     "ename": "AttributeError",
     "evalue": "No prediction data was generated",
     "output_type": "error",
     "traceback": [
      "\u001b[31m---------------------------------------------------------------------------\u001b[39m",
      "\u001b[31mAttributeError\u001b[39m                            Traceback (most recent call last)",
      "\u001b[36mCell\u001b[39m\u001b[36m \u001b[39m\u001b[32mIn[2]\u001b[39m\u001b[32m, line 10\u001b[39m\n\u001b[32m      7\u001b[39m df_works.head()\n\u001b[32m      8\u001b[39m works_list = df_works[\u001b[33m'\u001b[39m\u001b[33msentence_str\u001b[39m\u001b[33m'\u001b[39m].tolist()\n\u001b[32m---> \u001b[39m\u001b[32m10\u001b[39m topics,probabilities = \u001b[43mmu\u001b[49m\u001b[43m.\u001b[49m\u001b[43mtm_bertopic\u001b[49m\u001b[43m(\u001b[49m\u001b[43mworks_list\u001b[49m\u001b[43m)\u001b[49m\n",
      "\u001b[36mFile \u001b[39m\u001b[32mc:\\Users\\User\\code\\dta\\cls\\exam\\my_utils.py:25\u001b[39m, in \u001b[36mtm_bertopic\u001b[39m\u001b[34m(sentence_list)\u001b[39m\n\u001b[32m     22\u001b[39m hdbscan_model = HDBSCAN(min_cluster_size=\u001b[32m15\u001b[39m, metric=\u001b[33m'\u001b[39m\u001b[33meuclidean\u001b[39m\u001b[33m'\u001b[39m, cluster_selection_epsilon=\u001b[32m0.5\u001b[39m)\n\u001b[32m     24\u001b[39m topic_model = BERTopic(umap_model=umap_model, hdbscan_model=hdbscan_model, calculate_probabilities=\u001b[38;5;28;01mTrue\u001b[39;00m)\n\u001b[32m---> \u001b[39m\u001b[32m25\u001b[39m \u001b[38;5;28;01mreturn\u001b[39;00m \u001b[43mtopic_model\u001b[49m\u001b[43m.\u001b[49m\u001b[43mfit_transform\u001b[49m\u001b[43m(\u001b[49m\u001b[43msentence_list\u001b[49m\u001b[43m)\u001b[49m\n",
      "\u001b[36mFile \u001b[39m\u001b[32mc:\\Users\\User\\.local\\share\\mamba\\envs\\nlp\\Lib\\site-packages\\bertopic\\_bertopic.py:411\u001b[39m, in \u001b[36mBERTopic.fit_transform\u001b[39m\u001b[34m(self, documents, embeddings, images, y)\u001b[39m\n\u001b[32m    408\u001b[39m umap_embeddings = \u001b[38;5;28mself\u001b[39m._reduce_dimensionality(embeddings, y)\n\u001b[32m    410\u001b[39m \u001b[38;5;66;03m# Cluster reduced embeddings\u001b[39;00m\n\u001b[32m--> \u001b[39m\u001b[32m411\u001b[39m documents, probabilities = \u001b[38;5;28;43mself\u001b[39;49m\u001b[43m.\u001b[49m\u001b[43m_cluster_embeddings\u001b[49m\u001b[43m(\u001b[49m\u001b[43mumap_embeddings\u001b[49m\u001b[43m,\u001b[49m\u001b[43m \u001b[49m\u001b[43mdocuments\u001b[49m\u001b[43m,\u001b[49m\u001b[43m \u001b[49m\u001b[43my\u001b[49m\u001b[43m=\u001b[49m\u001b[43my\u001b[49m\u001b[43m)\u001b[49m\n\u001b[32m    413\u001b[39m \u001b[38;5;66;03m# Sort and Map Topic IDs by their frequency\u001b[39;00m\n\u001b[32m    414\u001b[39m \u001b[38;5;28;01mif\u001b[39;00m \u001b[38;5;129;01mnot\u001b[39;00m \u001b[38;5;28mself\u001b[39m.nr_topics:\n",
      "\u001b[36mFile \u001b[39m\u001b[32mc:\\Users\\User\\.local\\share\\mamba\\envs\\nlp\\Lib\\site-packages\\bertopic\\_bertopic.py:3529\u001b[39m, in \u001b[36mBERTopic._cluster_embeddings\u001b[39m\u001b[34m(self, umap_embeddings, documents, partial_fit, y)\u001b[39m\n\u001b[32m   3526\u001b[39m     probabilities = \u001b[38;5;28mself\u001b[39m.hdbscan_model.probabilities_\n\u001b[32m   3528\u001b[39m     \u001b[38;5;28;01mif\u001b[39;00m \u001b[38;5;28mself\u001b[39m.calculate_probabilities \u001b[38;5;129;01mand\u001b[39;00m is_supported_hdbscan(\u001b[38;5;28mself\u001b[39m.hdbscan_model):\n\u001b[32m-> \u001b[39m\u001b[32m3529\u001b[39m         probabilities = \u001b[43mhdbscan_delegator\u001b[49m\u001b[43m(\u001b[49m\u001b[38;5;28;43mself\u001b[39;49m\u001b[43m.\u001b[49m\u001b[43mhdbscan_model\u001b[49m\u001b[43m,\u001b[49m\u001b[43m \u001b[49m\u001b[33;43m\"\u001b[39;49m\u001b[33;43mall_points_membership_vectors\u001b[39;49m\u001b[33;43m\"\u001b[39;49m\u001b[43m)\u001b[49m\n\u001b[32m   3531\u001b[39m \u001b[38;5;28;01mif\u001b[39;00m \u001b[38;5;129;01mnot\u001b[39;00m partial_fit:\n\u001b[32m   3532\u001b[39m     \u001b[38;5;28mself\u001b[39m.topic_mapper_ = TopicMapper(\u001b[38;5;28mself\u001b[39m.topics_)\n",
      "\u001b[36mFile \u001b[39m\u001b[32mc:\\Users\\User\\.local\\share\\mamba\\envs\\nlp\\Lib\\site-packages\\bertopic\\cluster\\_utils.py:37\u001b[39m, in \u001b[36mhdbscan_delegator\u001b[39m\u001b[34m(model, func, embeddings)\u001b[39m\n\u001b[32m     35\u001b[39m \u001b[38;5;28;01mif\u001b[39;00m func == \u001b[33m\"\u001b[39m\u001b[33mall_points_membership_vectors\u001b[39m\u001b[33m\"\u001b[39m:\n\u001b[32m     36\u001b[39m     \u001b[38;5;28;01mif\u001b[39;00m \u001b[38;5;28misinstance\u001b[39m(model, hdbscan.HDBSCAN):\n\u001b[32m---> \u001b[39m\u001b[32m37\u001b[39m         \u001b[38;5;28;01mreturn\u001b[39;00m \u001b[43mhdbscan\u001b[49m\u001b[43m.\u001b[49m\u001b[43mall_points_membership_vectors\u001b[49m\u001b[43m(\u001b[49m\u001b[43mmodel\u001b[49m\u001b[43m)\u001b[49m\n\u001b[32m     39\u001b[39m     str_type_model = \u001b[38;5;28mstr\u001b[39m(\u001b[38;5;28mtype\u001b[39m(model)).lower()\n\u001b[32m     40\u001b[39m     \u001b[38;5;28;01mif\u001b[39;00m \u001b[33m\"\u001b[39m\u001b[33mcuml\u001b[39m\u001b[33m\"\u001b[39m \u001b[38;5;129;01min\u001b[39;00m str_type_model \u001b[38;5;129;01mand\u001b[39;00m \u001b[33m\"\u001b[39m\u001b[33mhdbscan\u001b[39m\u001b[33m\"\u001b[39m \u001b[38;5;129;01min\u001b[39;00m str_type_model:\n",
      "\u001b[36mFile \u001b[39m\u001b[32mc:\\Users\\User\\.local\\share\\mamba\\envs\\nlp\\Lib\\site-packages\\hdbscan\\prediction.py:648\u001b[39m, in \u001b[36mall_points_membership_vectors\u001b[39m\u001b[34m(clusterer)\u001b[39m\n\u001b[32m    622\u001b[39m \u001b[38;5;250m\u001b[39m\u001b[33;03m\"\"\"Predict soft cluster membership vectors for all points in the\u001b[39;00m\n\u001b[32m    623\u001b[39m \u001b[33;03moriginal dataset the clusterer was trained on. This function is more\u001b[39;00m\n\u001b[32m    624\u001b[39m \u001b[33;03mefficient by making use of the fact that all points are already in the\u001b[39;00m\n\u001b[32m   (...)\u001b[39m\u001b[32m    645\u001b[39m \u001b[33;03m:py:func:`hdbscan.predict.all_points_membership_vectors`\u001b[39;00m\n\u001b[32m    646\u001b[39m \u001b[33;03m\"\"\"\u001b[39;00m\n\u001b[32m    647\u001b[39m clusters = np.array(\u001b[38;5;28msorted\u001b[39m(\u001b[38;5;28mlist\u001b[39m(clusterer.condensed_tree_._select_clusters()))).astype(np.intp)\n\u001b[32m--> \u001b[39m\u001b[32m648\u001b[39m all_points = \u001b[43mclusterer\u001b[49m\u001b[43m.\u001b[49m\u001b[43mprediction_data_\u001b[49m.raw_data\n\u001b[32m    650\u001b[39m \u001b[38;5;66;03m# When no clusters found, return array of 0's\u001b[39;00m\n\u001b[32m    651\u001b[39m \u001b[38;5;28;01mif\u001b[39;00m clusters.size == \u001b[32m0\u001b[39m:\n",
      "\u001b[36mFile \u001b[39m\u001b[32mc:\\Users\\User\\.local\\share\\mamba\\envs\\nlp\\Lib\\site-packages\\hdbscan\\hdbscan_.py:1434\u001b[39m, in \u001b[36mHDBSCAN.prediction_data_\u001b[39m\u001b[34m(self)\u001b[39m\n\u001b[32m   1431\u001b[39m \u001b[38;5;129m@property\u001b[39m\n\u001b[32m   1432\u001b[39m \u001b[38;5;28;01mdef\u001b[39;00m\u001b[38;5;250m \u001b[39m\u001b[34mprediction_data_\u001b[39m(\u001b[38;5;28mself\u001b[39m):\n\u001b[32m   1433\u001b[39m     \u001b[38;5;28;01mif\u001b[39;00m \u001b[38;5;28mself\u001b[39m._prediction_data \u001b[38;5;129;01mis\u001b[39;00m \u001b[38;5;28;01mNone\u001b[39;00m:\n\u001b[32m-> \u001b[39m\u001b[32m1434\u001b[39m         \u001b[38;5;28;01mraise\u001b[39;00m \u001b[38;5;167;01mAttributeError\u001b[39;00m(\u001b[33m\"\u001b[39m\u001b[33mNo prediction data was generated\u001b[39m\u001b[33m\"\u001b[39m)\n\u001b[32m   1435\u001b[39m     \u001b[38;5;28;01melse\u001b[39;00m:\n\u001b[32m   1436\u001b[39m         \u001b[38;5;28;01mreturn\u001b[39;00m \u001b[38;5;28mself\u001b[39m._prediction_data\n",
      "\u001b[31mAttributeError\u001b[39m: No prediction data was generated"
     ]
    }
   ],
   "source": [
    "# topic modeling \n",
    "df = pd.read_csv('data\\phil_nlp.csv')\n",
    "\n",
    "# topic modeling all works phil_nlp\n",
    "\n",
    "df_works = df.groupby('title')['sentence_str'].agg(' '.join).reset_index()\n",
    "df_works.head()\n",
    "works_list = df_works['sentence_str'].tolist()\n",
    "\n",
    "topic_model, topics, probabilities = mu.tm_bertopic(works_list)\n",
    "\n",
    "topic_info = topic_model.get_topic_info()\n",
    "topic_model.visualize_barchart()\n",
    "topic_model.visualize_heatmap()\n",
    "topic_model.visualize_hierarchy()\n",
    "topic_model.get_topic(1)"
   ]
  },
  {
   "cell_type": "code",
   "execution_count": 2,
   "id": "778fada7",
   "metadata": {},
   "outputs": [
    {
     "name": "stderr",
     "output_type": "stream",
     "text": [
      "C:\\Users\\User\\AppData\\Local\\Temp\\ipykernel_17904\\2714835814.py:2: DtypeWarning: Columns (8) have mixed types. Specify dtype option on import or set low_memory=False.\n",
      "  df = pd.read_csv(r'data\\test\\phil_nlp.csv')\n"
     ]
    },
    {
     "data": {
      "text/html": [
       "<div>\n",
       "<style scoped>\n",
       "    .dataframe tbody tr th:only-of-type {\n",
       "        vertical-align: middle;\n",
       "    }\n",
       "\n",
       "    .dataframe tbody tr th {\n",
       "        vertical-align: top;\n",
       "    }\n",
       "\n",
       "    .dataframe thead th {\n",
       "        text-align: right;\n",
       "    }\n",
       "</style>\n",
       "<table border=\"1\" class=\"dataframe\">\n",
       "  <thead>\n",
       "    <tr style=\"text-align: right;\">\n",
       "      <th></th>\n",
       "      <th>title</th>\n",
       "      <th>author</th>\n",
       "      <th>school</th>\n",
       "      <th>sentence_spacy</th>\n",
       "      <th>sentence_str</th>\n",
       "      <th>original_publication_date</th>\n",
       "      <th>corpus_edition_date</th>\n",
       "      <th>sentence_length</th>\n",
       "      <th>sentence_lowered</th>\n",
       "      <th>tokenized_txt</th>\n",
       "      <th>lemmatized_str</th>\n",
       "    </tr>\n",
       "  </thead>\n",
       "  <tbody>\n",
       "    <tr>\n",
       "      <th>0</th>\n",
       "      <td>Plato - Complete Works</td>\n",
       "      <td>Plato</td>\n",
       "      <td>plato</td>\n",
       "      <td>What's new, Socrates, to make you leave your ...</td>\n",
       "      <td>What's new, Socrates, to make you leave your ...</td>\n",
       "      <td>-350</td>\n",
       "      <td>1997</td>\n",
       "      <td>125</td>\n",
       "      <td>what's new, socrates, to make you leave your ...</td>\n",
       "      <td>['what', 'new', 'socrates', 'to', 'make', 'you...</td>\n",
       "      <td>what be new , Socrates , to make -PRON- lea...</td>\n",
       "    </tr>\n",
       "    <tr>\n",
       "      <th>1</th>\n",
       "      <td>Plato - Complete Works</td>\n",
       "      <td>Plato</td>\n",
       "      <td>plato</td>\n",
       "      <td>Surely you are not prosecuting anyone before t...</td>\n",
       "      <td>Surely you are not prosecuting anyone before t...</td>\n",
       "      <td>-350</td>\n",
       "      <td>1997</td>\n",
       "      <td>69</td>\n",
       "      <td>surely you are not prosecuting anyone before t...</td>\n",
       "      <td>['surely', 'you', 'are', 'not', 'prosecuting',...</td>\n",
       "      <td>surely -PRON- be not prosecute anyone before ...</td>\n",
       "    </tr>\n",
       "    <tr>\n",
       "      <th>2</th>\n",
       "      <td>Plato - Complete Works</td>\n",
       "      <td>Plato</td>\n",
       "      <td>plato</td>\n",
       "      <td>The Athenians do not call this a prosecution b...</td>\n",
       "      <td>The Athenians do not call this a prosecution b...</td>\n",
       "      <td>-350</td>\n",
       "      <td>1997</td>\n",
       "      <td>74</td>\n",
       "      <td>the athenians do not call this a prosecution b...</td>\n",
       "      <td>['the', 'athenians', 'do', 'not', 'call', 'thi...</td>\n",
       "      <td>the Athenians do not call this a prosecution ...</td>\n",
       "    </tr>\n",
       "    <tr>\n",
       "      <th>3</th>\n",
       "      <td>Plato - Complete Works</td>\n",
       "      <td>Plato</td>\n",
       "      <td>plato</td>\n",
       "      <td>What is this you say?</td>\n",
       "      <td>What is this you say?</td>\n",
       "      <td>-350</td>\n",
       "      <td>1997</td>\n",
       "      <td>21</td>\n",
       "      <td>what is this you say?</td>\n",
       "      <td>['what', 'is', 'this', 'you', 'say']</td>\n",
       "      <td>what be this -PRON- say ?</td>\n",
       "    </tr>\n",
       "    <tr>\n",
       "      <th>4</th>\n",
       "      <td>Plato - Complete Works</td>\n",
       "      <td>Plato</td>\n",
       "      <td>plato</td>\n",
       "      <td>Someone must have indicted you, for you are no...</td>\n",
       "      <td>Someone must have indicted you, for you are no...</td>\n",
       "      <td>-350</td>\n",
       "      <td>1997</td>\n",
       "      <td>101</td>\n",
       "      <td>someone must have indicted you, for you are no...</td>\n",
       "      <td>['someone', 'must', 'have', 'indicted', 'you',...</td>\n",
       "      <td>someone must have indict -PRON- , for -PRON- ...</td>\n",
       "    </tr>\n",
       "  </tbody>\n",
       "</table>\n",
       "</div>"
      ],
      "text/plain": [
       "                    title author school  \\\n",
       "0  Plato - Complete Works  Plato  plato   \n",
       "1  Plato - Complete Works  Plato  plato   \n",
       "2  Plato - Complete Works  Plato  plato   \n",
       "3  Plato - Complete Works  Plato  plato   \n",
       "4  Plato - Complete Works  Plato  plato   \n",
       "\n",
       "                                      sentence_spacy  \\\n",
       "0   What's new, Socrates, to make you leave your ...   \n",
       "1  Surely you are not prosecuting anyone before t...   \n",
       "2  The Athenians do not call this a prosecution b...   \n",
       "3                              What is this you say?   \n",
       "4  Someone must have indicted you, for you are no...   \n",
       "\n",
       "                                        sentence_str  \\\n",
       "0   What's new, Socrates, to make you leave your ...   \n",
       "1  Surely you are not prosecuting anyone before t...   \n",
       "2  The Athenians do not call this a prosecution b...   \n",
       "3                              What is this you say?   \n",
       "4  Someone must have indicted you, for you are no...   \n",
       "\n",
       "   original_publication_date  corpus_edition_date  sentence_length  \\\n",
       "0                       -350                 1997              125   \n",
       "1                       -350                 1997               69   \n",
       "2                       -350                 1997               74   \n",
       "3                       -350                 1997               21   \n",
       "4                       -350                 1997              101   \n",
       "\n",
       "                                    sentence_lowered  \\\n",
       "0   what's new, socrates, to make you leave your ...   \n",
       "1  surely you are not prosecuting anyone before t...   \n",
       "2  the athenians do not call this a prosecution b...   \n",
       "3                              what is this you say?   \n",
       "4  someone must have indicted you, for you are no...   \n",
       "\n",
       "                                       tokenized_txt  \\\n",
       "0  ['what', 'new', 'socrates', 'to', 'make', 'you...   \n",
       "1  ['surely', 'you', 'are', 'not', 'prosecuting',...   \n",
       "2  ['the', 'athenians', 'do', 'not', 'call', 'thi...   \n",
       "3               ['what', 'is', 'this', 'you', 'say']   \n",
       "4  ['someone', 'must', 'have', 'indicted', 'you',...   \n",
       "\n",
       "                                      lemmatized_str  \n",
       "0     what be new , Socrates , to make -PRON- lea...  \n",
       "1   surely -PRON- be not prosecute anyone before ...  \n",
       "2   the Athenians do not call this a prosecution ...  \n",
       "3                          what be this -PRON- say ?  \n",
       "4   someone must have indict -PRON- , for -PRON- ...  "
      ]
     },
     "execution_count": 2,
     "metadata": {},
     "output_type": "execute_result"
    }
   ],
   "source": [
    "import pandas as pd\n",
    "df = pd.read_csv(r'data\\test\\phil_nlp.csv')\n",
    "df.head()"
   ]
  },
  {
   "cell_type": "code",
   "execution_count": null,
   "id": "6f503457",
   "metadata": {},
   "outputs": [
    {
     "data": {
      "text/plain": [
       "list"
      ]
     },
     "execution_count": 37,
     "metadata": {},
     "output_type": "execute_result"
    }
   ],
   "source": [
    "\n"
   ]
  },
  {
   "cell_type": "code",
   "execution_count": null,
   "id": "9be577d0",
   "metadata": {},
   "outputs": [
    {
     "ename": "AttributeError",
     "evalue": "module 'my_utils' has no attribute 'tm_bertopic'",
     "output_type": "error",
     "traceback": [
      "\u001b[31m---------------------------------------------------------------------------\u001b[39m",
      "\u001b[31mAttributeError\u001b[39m                            Traceback (most recent call last)",
      "\u001b[36mCell\u001b[39m\u001b[36m \u001b[39m\u001b[32mIn[40]\u001b[39m\u001b[32m, line 1\u001b[39m\n\u001b[32m----> \u001b[39m\u001b[32m1\u001b[39m topics,probabilities = \u001b[43mmu\u001b[49m\u001b[43m.\u001b[49m\u001b[43mtm_bertopic\u001b[49m(works_list)\n",
      "\u001b[31mAttributeError\u001b[39m: module 'my_utils' has no attribute 'tm_bertopic'"
     ]
    }
   ],
   "source": []
  },
  {
   "cell_type": "code",
   "execution_count": 33,
   "id": "54494b71",
   "metadata": {},
   "outputs": [
    {
     "data": {
      "text/plain": [
       "674197"
      ]
     },
     "execution_count": 33,
     "metadata": {},
     "output_type": "execute_result"
    }
   ],
   "source": [
    "len(works.iloc[0]['sentence_str'])"
   ]
  },
  {
   "cell_type": "code",
   "execution_count": null,
   "id": "3a85b224",
   "metadata": {},
   "outputs": [],
   "source": []
  },
  {
   "cell_type": "code",
   "execution_count": 35,
   "id": "15abab10",
   "metadata": {},
   "outputs": [
    {
     "data": {
      "text/plain": [
       "69"
      ]
     },
     "execution_count": 35,
     "metadata": {},
     "output_type": "execute_result"
    }
   ],
   "source": [
    "titles = df.title.unique()\n",
    "len(titles)"
   ]
  },
  {
   "cell_type": "code",
   "execution_count": null,
   "id": "4d27bdf9",
   "metadata": {},
   "outputs": [],
   "source": []
  },
  {
   "cell_type": "code",
   "execution_count": null,
   "id": "4982fe03",
   "metadata": {},
   "outputs": [],
   "source": []
  }
 ],
 "metadata": {
  "kernelspec": {
   "display_name": "nlp",
   "language": "python",
   "name": "python3"
  },
  "language_info": {
   "codemirror_mode": {
    "name": "ipython",
    "version": 3
   },
   "file_extension": ".py",
   "mimetype": "text/x-python",
   "name": "python",
   "nbconvert_exporter": "python",
   "pygments_lexer": "ipython3",
   "version": "3.12.10"
  }
 },
 "nbformat": 4,
 "nbformat_minor": 5
}
