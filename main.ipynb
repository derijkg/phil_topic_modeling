{
 "cells": [
  {
   "cell_type": "markdown",
   "id": "d74b2b95",
   "metadata": {},
   "source": [
    "# This notebook will take you through the entire process."
   ]
  },
  {
   "cell_type": "markdown",
   "id": "39f0cee4",
   "metadata": {},
   "source": [
    "## Preprocessing"
   ]
  },
  {
   "cell_type": "code",
   "execution_count": null,
   "id": "76c73dcf",
   "metadata": {},
   "outputs": [],
   "source": []
  }
 ],
 "metadata": {
  "language_info": {
   "name": "python"
  }
 },
 "nbformat": 4,
 "nbformat_minor": 5
}
